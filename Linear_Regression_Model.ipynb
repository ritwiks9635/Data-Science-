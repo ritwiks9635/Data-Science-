{
  "cells": [
    {
      "cell_type": "markdown",
      "metadata": {
        "id": "view-in-github",
        "colab_type": "text"
      },
      "source": [
        "<a href=\"https://colab.research.google.com/github/ritwiks9635/Data-Science-Project/blob/main/Linear_Regression_Model.ipynb\" target=\"_parent\"><img src=\"https://colab.research.google.com/assets/colab-badge.svg\" alt=\"Open In Colab\"/></a>"
      ]
    },
    {
      "cell_type": "markdown",
      "source": [
        "# **Simple Linear Regression Model**\n",
        "\n",
        "[Salary Dataset](https://www.kaggle.com/datasets/abhishek14398/salary-dataset-simple-linear-regression)"
      ],
      "metadata": {
        "id": "vDbEEzsWUTsV"
      }
    },
    {
      "cell_type": "code",
      "source": [
        "!unzip /content/https://www.kaggle.com/datasets/abhishek14398/salary-dataset-simple-linear-regression/salary-dataset-simple-linear-regression.zip"
      ],
      "metadata": {
        "id": "8tig0TJZUSZq"
      },
      "execution_count": null,
      "outputs": []
    },
    {
      "cell_type": "code",
      "source": [
        "import numpy as np\n",
        "import pandas as pd\n",
        "import matplotlib.pyplot as plt"
      ],
      "metadata": {
        "id": "HPRHGQ4XWU34"
      },
      "execution_count": 3,
      "outputs": []
    },
    {
      "cell_type": "code",
      "source": [
        "data = pd.read_csv(\"Salary_dataset.csv\")\n",
        "data.drop([\"Unnamed: 0\"], axis = 1, inplace=True)\n",
        "data.head()"
      ],
      "metadata": {
        "colab": {
          "base_uri": "https://localhost:8080/",
          "height": 206
        },
        "id": "c9M4lqHBWc4i",
        "outputId": "dac01e22-95e2-4554-c3d9-a95ae5cc1046"
      },
      "execution_count": 4,
      "outputs": [
        {
          "output_type": "execute_result",
          "data": {
            "text/plain": [
              "   YearsExperience   Salary\n",
              "0              1.2  39344.0\n",
              "1              1.4  46206.0\n",
              "2              1.6  37732.0\n",
              "3              2.1  43526.0\n",
              "4              2.3  39892.0"
            ],
            "text/html": [
              "\n",
              "  <div id=\"df-cd693d26-e4ed-4844-a825-d8b8c878f8f3\" class=\"colab-df-container\">\n",
              "    <div>\n",
              "<style scoped>\n",
              "    .dataframe tbody tr th:only-of-type {\n",
              "        vertical-align: middle;\n",
              "    }\n",
              "\n",
              "    .dataframe tbody tr th {\n",
              "        vertical-align: top;\n",
              "    }\n",
              "\n",
              "    .dataframe thead th {\n",
              "        text-align: right;\n",
              "    }\n",
              "</style>\n",
              "<table border=\"1\" class=\"dataframe\">\n",
              "  <thead>\n",
              "    <tr style=\"text-align: right;\">\n",
              "      <th></th>\n",
              "      <th>YearsExperience</th>\n",
              "      <th>Salary</th>\n",
              "    </tr>\n",
              "  </thead>\n",
              "  <tbody>\n",
              "    <tr>\n",
              "      <th>0</th>\n",
              "      <td>1.2</td>\n",
              "      <td>39344.0</td>\n",
              "    </tr>\n",
              "    <tr>\n",
              "      <th>1</th>\n",
              "      <td>1.4</td>\n",
              "      <td>46206.0</td>\n",
              "    </tr>\n",
              "    <tr>\n",
              "      <th>2</th>\n",
              "      <td>1.6</td>\n",
              "      <td>37732.0</td>\n",
              "    </tr>\n",
              "    <tr>\n",
              "      <th>3</th>\n",
              "      <td>2.1</td>\n",
              "      <td>43526.0</td>\n",
              "    </tr>\n",
              "    <tr>\n",
              "      <th>4</th>\n",
              "      <td>2.3</td>\n",
              "      <td>39892.0</td>\n",
              "    </tr>\n",
              "  </tbody>\n",
              "</table>\n",
              "</div>\n",
              "    <div class=\"colab-df-buttons\">\n",
              "\n",
              "  <div class=\"colab-df-container\">\n",
              "    <button class=\"colab-df-convert\" onclick=\"convertToInteractive('df-cd693d26-e4ed-4844-a825-d8b8c878f8f3')\"\n",
              "            title=\"Convert this dataframe to an interactive table.\"\n",
              "            style=\"display:none;\">\n",
              "\n",
              "  <svg xmlns=\"http://www.w3.org/2000/svg\" height=\"24px\" viewBox=\"0 -960 960 960\">\n",
              "    <path d=\"M120-120v-720h720v720H120Zm60-500h600v-160H180v160Zm220 220h160v-160H400v160Zm0 220h160v-160H400v160ZM180-400h160v-160H180v160Zm440 0h160v-160H620v160ZM180-180h160v-160H180v160Zm440 0h160v-160H620v160Z\"/>\n",
              "  </svg>\n",
              "    </button>\n",
              "\n",
              "  <style>\n",
              "    .colab-df-container {\n",
              "      display:flex;\n",
              "      gap: 12px;\n",
              "    }\n",
              "\n",
              "    .colab-df-convert {\n",
              "      background-color: #E8F0FE;\n",
              "      border: none;\n",
              "      border-radius: 50%;\n",
              "      cursor: pointer;\n",
              "      display: none;\n",
              "      fill: #1967D2;\n",
              "      height: 32px;\n",
              "      padding: 0 0 0 0;\n",
              "      width: 32px;\n",
              "    }\n",
              "\n",
              "    .colab-df-convert:hover {\n",
              "      background-color: #E2EBFA;\n",
              "      box-shadow: 0px 1px 2px rgba(60, 64, 67, 0.3), 0px 1px 3px 1px rgba(60, 64, 67, 0.15);\n",
              "      fill: #174EA6;\n",
              "    }\n",
              "\n",
              "    .colab-df-buttons div {\n",
              "      margin-bottom: 4px;\n",
              "    }\n",
              "\n",
              "    [theme=dark] .colab-df-convert {\n",
              "      background-color: #3B4455;\n",
              "      fill: #D2E3FC;\n",
              "    }\n",
              "\n",
              "    [theme=dark] .colab-df-convert:hover {\n",
              "      background-color: #434B5C;\n",
              "      box-shadow: 0px 1px 3px 1px rgba(0, 0, 0, 0.15);\n",
              "      filter: drop-shadow(0px 1px 2px rgba(0, 0, 0, 0.3));\n",
              "      fill: #FFFFFF;\n",
              "    }\n",
              "  </style>\n",
              "\n",
              "    <script>\n",
              "      const buttonEl =\n",
              "        document.querySelector('#df-cd693d26-e4ed-4844-a825-d8b8c878f8f3 button.colab-df-convert');\n",
              "      buttonEl.style.display =\n",
              "        google.colab.kernel.accessAllowed ? 'block' : 'none';\n",
              "\n",
              "      async function convertToInteractive(key) {\n",
              "        const element = document.querySelector('#df-cd693d26-e4ed-4844-a825-d8b8c878f8f3');\n",
              "        const dataTable =\n",
              "          await google.colab.kernel.invokeFunction('convertToInteractive',\n",
              "                                                    [key], {});\n",
              "        if (!dataTable) return;\n",
              "\n",
              "        const docLinkHtml = 'Like what you see? Visit the ' +\n",
              "          '<a target=\"_blank\" href=https://colab.research.google.com/notebooks/data_table.ipynb>data table notebook</a>'\n",
              "          + ' to learn more about interactive tables.';\n",
              "        element.innerHTML = '';\n",
              "        dataTable['output_type'] = 'display_data';\n",
              "        await google.colab.output.renderOutput(dataTable, element);\n",
              "        const docLink = document.createElement('div');\n",
              "        docLink.innerHTML = docLinkHtml;\n",
              "        element.appendChild(docLink);\n",
              "      }\n",
              "    </script>\n",
              "  </div>\n",
              "\n",
              "\n",
              "<div id=\"df-a733594f-8ce0-40de-b7b5-d15695e826fe\">\n",
              "  <button class=\"colab-df-quickchart\" onclick=\"quickchart('df-a733594f-8ce0-40de-b7b5-d15695e826fe')\"\n",
              "            title=\"Suggest charts\"\n",
              "            style=\"display:none;\">\n",
              "\n",
              "<svg xmlns=\"http://www.w3.org/2000/svg\" height=\"24px\"viewBox=\"0 0 24 24\"\n",
              "     width=\"24px\">\n",
              "    <g>\n",
              "        <path d=\"M19 3H5c-1.1 0-2 .9-2 2v14c0 1.1.9 2 2 2h14c1.1 0 2-.9 2-2V5c0-1.1-.9-2-2-2zM9 17H7v-7h2v7zm4 0h-2V7h2v10zm4 0h-2v-4h2v4z\"/>\n",
              "    </g>\n",
              "</svg>\n",
              "  </button>\n",
              "\n",
              "<style>\n",
              "  .colab-df-quickchart {\n",
              "      --bg-color: #E8F0FE;\n",
              "      --fill-color: #1967D2;\n",
              "      --hover-bg-color: #E2EBFA;\n",
              "      --hover-fill-color: #174EA6;\n",
              "      --disabled-fill-color: #AAA;\n",
              "      --disabled-bg-color: #DDD;\n",
              "  }\n",
              "\n",
              "  [theme=dark] .colab-df-quickchart {\n",
              "      --bg-color: #3B4455;\n",
              "      --fill-color: #D2E3FC;\n",
              "      --hover-bg-color: #434B5C;\n",
              "      --hover-fill-color: #FFFFFF;\n",
              "      --disabled-bg-color: #3B4455;\n",
              "      --disabled-fill-color: #666;\n",
              "  }\n",
              "\n",
              "  .colab-df-quickchart {\n",
              "    background-color: var(--bg-color);\n",
              "    border: none;\n",
              "    border-radius: 50%;\n",
              "    cursor: pointer;\n",
              "    display: none;\n",
              "    fill: var(--fill-color);\n",
              "    height: 32px;\n",
              "    padding: 0;\n",
              "    width: 32px;\n",
              "  }\n",
              "\n",
              "  .colab-df-quickchart:hover {\n",
              "    background-color: var(--hover-bg-color);\n",
              "    box-shadow: 0 1px 2px rgba(60, 64, 67, 0.3), 0 1px 3px 1px rgba(60, 64, 67, 0.15);\n",
              "    fill: var(--button-hover-fill-color);\n",
              "  }\n",
              "\n",
              "  .colab-df-quickchart-complete:disabled,\n",
              "  .colab-df-quickchart-complete:disabled:hover {\n",
              "    background-color: var(--disabled-bg-color);\n",
              "    fill: var(--disabled-fill-color);\n",
              "    box-shadow: none;\n",
              "  }\n",
              "\n",
              "  .colab-df-spinner {\n",
              "    border: 2px solid var(--fill-color);\n",
              "    border-color: transparent;\n",
              "    border-bottom-color: var(--fill-color);\n",
              "    animation:\n",
              "      spin 1s steps(1) infinite;\n",
              "  }\n",
              "\n",
              "  @keyframes spin {\n",
              "    0% {\n",
              "      border-color: transparent;\n",
              "      border-bottom-color: var(--fill-color);\n",
              "      border-left-color: var(--fill-color);\n",
              "    }\n",
              "    20% {\n",
              "      border-color: transparent;\n",
              "      border-left-color: var(--fill-color);\n",
              "      border-top-color: var(--fill-color);\n",
              "    }\n",
              "    30% {\n",
              "      border-color: transparent;\n",
              "      border-left-color: var(--fill-color);\n",
              "      border-top-color: var(--fill-color);\n",
              "      border-right-color: var(--fill-color);\n",
              "    }\n",
              "    40% {\n",
              "      border-color: transparent;\n",
              "      border-right-color: var(--fill-color);\n",
              "      border-top-color: var(--fill-color);\n",
              "    }\n",
              "    60% {\n",
              "      border-color: transparent;\n",
              "      border-right-color: var(--fill-color);\n",
              "    }\n",
              "    80% {\n",
              "      border-color: transparent;\n",
              "      border-right-color: var(--fill-color);\n",
              "      border-bottom-color: var(--fill-color);\n",
              "    }\n",
              "    90% {\n",
              "      border-color: transparent;\n",
              "      border-bottom-color: var(--fill-color);\n",
              "    }\n",
              "  }\n",
              "</style>\n",
              "\n",
              "  <script>\n",
              "    async function quickchart(key) {\n",
              "      const quickchartButtonEl =\n",
              "        document.querySelector('#' + key + ' button');\n",
              "      quickchartButtonEl.disabled = true;  // To prevent multiple clicks.\n",
              "      quickchartButtonEl.classList.add('colab-df-spinner');\n",
              "      try {\n",
              "        const charts = await google.colab.kernel.invokeFunction(\n",
              "            'suggestCharts', [key], {});\n",
              "      } catch (error) {\n",
              "        console.error('Error during call to suggestCharts:', error);\n",
              "      }\n",
              "      quickchartButtonEl.classList.remove('colab-df-spinner');\n",
              "      quickchartButtonEl.classList.add('colab-df-quickchart-complete');\n",
              "    }\n",
              "    (() => {\n",
              "      let quickchartButtonEl =\n",
              "        document.querySelector('#df-a733594f-8ce0-40de-b7b5-d15695e826fe button');\n",
              "      quickchartButtonEl.style.display =\n",
              "        google.colab.kernel.accessAllowed ? 'block' : 'none';\n",
              "    })();\n",
              "  </script>\n",
              "</div>\n",
              "\n",
              "    </div>\n",
              "  </div>\n"
            ],
            "application/vnd.google.colaboratory.intrinsic+json": {
              "type": "dataframe",
              "variable_name": "data",
              "summary": "{\n  \"name\": \"data\",\n  \"rows\": 30,\n  \"fields\": [\n    {\n      \"column\": \"YearsExperience\",\n      \"properties\": {\n        \"dtype\": \"number\",\n        \"std\": 2.8378881576627184,\n        \"min\": 1.2000000000000002,\n        \"max\": 10.6,\n        \"num_unique_values\": 28,\n        \"samples\": [\n          4.0,\n          9.7,\n          3.8\n        ],\n        \"semantic_type\": \"\",\n        \"description\": \"\"\n      }\n    },\n    {\n      \"column\": \"Salary\",\n      \"properties\": {\n        \"dtype\": \"number\",\n        \"std\": 27414.4297845823,\n        \"min\": 37732.0,\n        \"max\": 122392.0,\n        \"num_unique_values\": 30,\n        \"samples\": [\n          112636.0,\n          67939.0,\n          113813.0\n        ],\n        \"semantic_type\": \"\",\n        \"description\": \"\"\n      }\n    }\n  ]\n}"
            }
          },
          "metadata": {},
          "execution_count": 4
        }
      ]
    },
    {
      "cell_type": "markdown",
      "source": [
        "**Visualize the Relationship between Year of Experience and Salary**"
      ],
      "metadata": {
        "id": "ypYfkIX2-TM2"
      }
    },
    {
      "cell_type": "code",
      "source": [
        "correlation = data['YearsExperience'].corr(data['Salary'])\n",
        "print(f'Correlation between Years of Experience and Salary: {correlation:.2f}')\n",
        "\n",
        "# Plot Years of Experience vs. Salary\n",
        "plt.scatter(data['YearsExperience'], data['Salary'], color='blue')\n",
        "plt.xlabel('Years of Experience')\n",
        "plt.ylabel('Salary')\n",
        "plt.title('Years of Experience vs Salary')\n",
        "plt.show()"
      ],
      "metadata": {
        "colab": {
          "base_uri": "https://localhost:8080/",
          "height": 301
        },
        "id": "SXovmILqXG6H",
        "outputId": "f366cccb-3f92-44bd-e353-8c757756a70f"
      },
      "execution_count": 5,
      "outputs": [
        {
          "output_type": "stream",
          "name": "stdout",
          "text": [
            "Correlation between Years of Experience and Salary: 0.98\n"
          ]
        },
        {
          "output_type": "display_data",
          "data": {
            "text/plain": [
              "<Figure size 640x480 with 1 Axes>"
            ],
            "image/png": "[encoded data removed]"
          },
          "metadata": {}
        }
      ]
    },
    {
      "cell_type": "code",
      "source": [
        "X = data[\"YearsExperience\"].values\n",
        "y = data[\"Salary\"].values"
      ],
      "metadata": {
        "id": "axspL9DqjxEK"
      },
      "execution_count": 9,
      "outputs": []
    },
    {
      "cell_type": "markdown",
      "source": [
        "**Hypothesis Function ::** $$ \\hat{y} = w \\cdot x + b $$\n",
        "\n",
        "**Compute Cost ::** $$ J(w, b) = \\frac{1}{2m} \\sum_{i=1}^{m} \\left( \\hat{y}_i - y_i \\right)^2 $$"
      ],
      "metadata": {
        "id": "zMVJhund2FFc"
      }
    },
    {
      "cell_type": "code",
      "source": [
        "def compute_cost(x, y, w, b):\n",
        "    m = len(x) # Number of training samples\n",
        "    total_cost = 0\n",
        "    for i in range(m):\n",
        "        pred = w * x[i] + b # compute the prediction of the model\n",
        "        cost = (pred - y[i]) ** 2 # compute the cost\n",
        "        total_cost += cost # add cost\n",
        "\n",
        "    total_cost /= (2 * m) # divide the total cost by twice the number training samples\n",
        "    return total_cost"
      ],
      "metadata": {
        "id": "Omz8KdUmj9jl"
      },
      "execution_count": 13,
      "outputs": []
    },
    {
      "cell_type": "markdown",
      "source": [
        "**Gradient of Weight ::** $$ \\frac{\\partial J}{\\partial w} = \\frac{1}{m} \\sum_{i=1}^{m} \\left( \\hat{y}_i - y_i \\right) \\cdot x_i $$\n",
        "\n",
        "**Gradient of Bias ::** $$ \\frac{\\partial J}{\\partial b} = \\frac{1}{m} \\sum_{i=1}^{m} \\left( \\hat{y}_i - y_i \\right) $$"
      ],
      "metadata": {
        "id": "MZMFd_BT6sa4"
      }
    },
    {
      "cell_type": "code",
      "source": [
        "def compute_gradient(x, y, w, b):\n",
        "    m = len(x)\n",
        "    # the gradient of the cost w, b\n",
        "    dj_dw = 0\n",
        "    dj_db = 0\n",
        "\n",
        "    for i in range(m):\n",
        "        pred = w * x[i] + b\n",
        "        # compute gradient for parameter w\n",
        "        dj_dw += (pred - y[i]) * x[i]\n",
        "        # compute gradient for parameter b\n",
        "        dj_db += pred - y[i]\n",
        "\n",
        "    # Divide the gradient by the number of training samples\n",
        "    dj_dw /= m\n",
        "    dj_db /= m\n",
        "\n",
        "    return dj_dw, dj_db"
      ],
      "metadata": {
        "id": "kGvA26inoRAs"
      },
      "execution_count": 14,
      "outputs": []
    },
    {
      "cell_type": "markdown",
      "source": [
        "**Update value of parameters Weights and Bias ::**\n",
        "\n",
        "$$ w = w - \\alpha \\cdot \\frac{\\partial J}{\\partial w} $$\n",
        "$$ b = b - \\alpha \\cdot \\frac{\\partial J}{\\partial b} $$"
      ],
      "metadata": {
        "id": "JMgs9Fr37k5H"
      }
    },
    {
      "cell_type": "code",
      "source": [
        "def gradient_descent(x, y, w, b, learning_rate, epochs):\n",
        "    # Store the history of cost for visualization purposes\n",
        "    cost_history = []\n",
        "\n",
        "    # Perform gradient descent for the specified number of epochs\n",
        "    for epoch in range(epochs):\n",
        "        # Compute the gradients for weight and bias\n",
        "        dj_dw, dj_db = compute_gradient(x, y, w, b)\n",
        "\n",
        "        # Update the weight and bias using the gradients and learning rate\n",
        "        w = w - learning_rate * dj_dw\n",
        "        b = b - learning_rate * dj_db\n",
        "\n",
        "        # Compute the cost for the current epoch\n",
        "        cost = compute_cost(x, y, w, b)\n",
        "        cost_history.append(cost)\n",
        "\n",
        "        # Print cost at regular intervals for monitoring progress\n",
        "        if epoch % 100 == 0 or epoch == epochs - 1:\n",
        "            print(f'Epoch {epoch}: Cost = {cost:.4f}, w = {w:.4f}, b = {b:.4f}')\n",
        "\n",
        "    return w, b, cost_history"
      ],
      "metadata": {
        "id": "4HMrDQGGxs1O"
      },
      "execution_count": 15,
      "outputs": []
    },
    {
      "cell_type": "markdown",
      "source": [
        "**Training the Model**"
      ],
      "metadata": {
        "id": "7Os66fC_963x"
      }
    },
    {
      "cell_type": "code",
      "source": [
        "w = 0.0\n",
        "b = 0.0\n",
        "learning_rate = 0.01\n",
        "epochs = 2000\n",
        "\n",
        "# Train the model using gradient descent\n",
        "w, b, cost_history = gradient_descent(X, y, w, b, learning_rate, epochs)\n",
        "\n",
        "# Print the final weight, bias, and initial vs. final cost\n",
        "print(f'Final weight: {w:.2f}')\n",
        "print(f'Final bias: {b:.2f}')\n",
        "print(f'Initial cost: {cost_history[0]:.2f}')\n",
        "print(f'Final cost: {cost_history[-1]:.2f}')"
      ],
      "metadata": {
        "colab": {
          "base_uri": "https://localhost:8080/"
        },
        "id": "rmUeMrL3eDWy",
        "outputId": "3d5df098-26ae-4cb5-bdca-d4a8f996ad22"
      },
      "execution_count": 20,
      "outputs": [
        {
          "output_type": "stream",
          "name": "stdout",
          "text": [
            "Epoch 0: Cost = 1297963218.5636, w = 4850.0441, b = 760.0400\n",
            "Epoch 100: Cost = 52175120.5904, w = 12188.3276, b = 6190.3086\n",
            "Epoch 200: Cost = 39850504.7091, w = 11679.1761, b = 9659.4206\n",
            "Epoch 300: Cost = 31682912.1855, w = 11264.6925, b = 12483.5114\n",
            "Epoch 400: Cost = 26270202.5097, w = 10927.2749, b = 14782.5115\n",
            "Epoch 500: Cost = 22683169.2499, w = 10652.5942, b = 16654.0524\n",
            "Epoch 600: Cost = 20306022.0579, w = 10428.9857, b = 18177.6127\n",
            "Epoch 700: Cost = 18730673.1935, w = 10246.9533, b = 19417.8935\n",
            "Epoch 800: Cost = 17686680.6073, w = 10098.7666, b = 20427.5655\n",
            "Epoch 900: Cost = 16994820.8266, w = 9978.1327, b = 21249.5065\n",
            "Epoch 1000: Cost = 16536321.4440, w = 9879.9286, b = 21918.6219\n",
            "Epoch 1100: Cost = 16232471.3146, w = 9799.9838, b = 22463.3269\n",
            "Epoch 1200: Cost = 16031108.1185, w = 9734.9034, b = 22906.7534\n",
            "Epoch 1300: Cost = 15897663.5917, w = 9681.9236, b = 23267.7324\n",
            "Epoch 1400: Cost = 15809229.1504, w = 9638.7944, b = 23561.5937\n",
            "Epoch 1500: Cost = 15750623.1468, w = 9603.6843, b = 23800.8166\n",
            "Epoch 1600: Cost = 15711784.6174, w = 9575.1024, b = 23995.5601\n",
            "Epoch 1700: Cost = 15686046.1047, w = 9551.8348, b = 24154.0944\n",
            "Epoch 1800: Cost = 15668989.0471, w = 9532.8934, b = 24283.1521\n",
            "Epoch 1900: Cost = 15657685.2387, w = 9517.4738, b = 24388.2137\n",
            "Epoch 1999: Cost = 15650254.8203, w = 9505.0344, b = 24472.9698\n",
            "Final weight: 9505.03\n",
            "Final bias: 24472.97\n",
            "Initial cost: 1297963218.56\n",
            "Final cost: 15650254.82\n"
          ]
        }
      ]
    },
    {
      "cell_type": "markdown",
      "source": [
        "**Visualize the Model Performance**"
      ],
      "metadata": {
        "id": "-wMihRry-CQn"
      }
    },
    {
      "cell_type": "code",
      "source": [
        "# Visualize the cost reduction over epochs\n",
        "plt.plot(range(len(cost_history)), cost_history, 'b-')\n",
        "plt.xlabel('Epochs')\n",
        "plt.ylabel('Cost')\n",
        "plt.title('Cost Reduction over Epochs')\n",
        "plt.show()\n",
        "\n",
        "# Plot the regression line along with data points\n",
        "plt.scatter(X, y, color='blue', label='Data Points')\n",
        "plt.plot(X, w * X + b, color='red', label='Regression Line')\n",
        "plt.xlabel('Years of Experience')\n",
        "plt.ylabel('Salary')\n",
        "plt.title('Linear Regression - Years of Experience vs Salary')\n",
        "plt.legend()\n",
        "plt.show()"
      ],
      "metadata": {
        "colab": {
          "base_uri": "https://localhost:8080/",
          "height": 524
        },
        "id": "NadkPmpt1Py0",
        "outputId": "25176869-30a3-4ca8-95d0-043a72605cb4"
      },
      "execution_count": 23,
      "outputs": [
        {
          "output_type": "display_data",
          "data": {
            "text/plain": [
              "<Figure size 640x480 with 1 Axes>"
            ],
            "image/png": "[encoded data removed]"
          },
          "metadata": {}
        },
        {
          "output_type": "display_data",
          "data": {
            "text/plain": [
              "<Figure size 640x480 with 1 Axes>"
            ],
            "image/png": "[encoded data removed]"
          },
          "metadata": {}
        }
      ]
    }
  ],
  "metadata": {
    "colab": {
      "provenance": [],
      "authorship_tag": "ABX9TyMtLXp3j2He6t5IzRosFvBD",
      "include_colab_link": true
    },
    "kernelspec": {
      "display_name": "Python 3",
      "name": "python3"
    },
    "language_info": {
      "name": "python"
    }
  },
  "nbformat": 4,
  "nbformat_minor": 0
}